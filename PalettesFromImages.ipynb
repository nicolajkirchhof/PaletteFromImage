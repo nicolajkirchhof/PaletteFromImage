{
 "cells": [
  {
   "cell_type": "code",
   "execution_count": 9,
   "metadata": {
    "collapsed": true
   },
   "outputs": [],
   "source": [
    "from PIL import Image\n",
    "import numpy as np\n",
    "from os import path\n",
    "import matplotlib.pyplot as plt\n",
    "from scipy import cluster\n",
    "%matplotlib inline\n"
   ]
  },
  {
   "cell_type": "code",
   "execution_count": 66,
   "metadata": {
    "collapsed": false
   },
   "outputs": [],
   "source": [
    "d = path.join(r'D:\\Pictures\\Bing Backgrounds\\2016')\n",
    "f = '2-1-2016.bmp'\n",
    "# f = '1-4-2016.bmp'\n",
    "p = path.join(d,f)\n",
    "img = np.array(Image.open(p))\n",
    "img = img.astype(float)\n",
    "\n",
    "dims = np.shape(img)\n",
    "pixlist = np.reshape(img, [dims[0] * dims[1], dims[2]])\n",
    "\n",
    "\n",
    "cc = cluster.vq.kmeans(pixlist, 10)\n"
   ]
  },
  {
   "cell_type": "code",
   "execution_count": 67,
   "metadata": {
    "collapsed": false
   },
   "outputs": [
    {
     "data": {
      "text/plain": [
       "<matplotlib.image.AxesImage at 0x2e4e6bf5eb8>"
      ]
     },
     "execution_count": 67,
     "metadata": {},
     "output_type": "execute_result"
    },
    {
     "data": {
      "image/png": "[encoded data removed]",
      "text/plain": [
       "<matplotlib.figure.Figure at 0x2e4e6ba8b38>"
      ]
     },
     "metadata": {},
     "output_type": "display_data"
    }
   ],
   "source": [
    "cmap = [ np.tile(np.reshape(c, (1,1,3)), (32, 32, 1)) for c in cc[0] ]\n",
    "\n",
    "plt.imshow(np.concatenate(cmap))"
   ]
  }
 ],
 "metadata": {
  "kernelspec": {
   "display_name": "Python 3",
   "language": "python",
   "name": "python3"
  },
  "language_info": {
   "codemirror_mode": {
    "name": "ipython",
    "version": 3
   },
   "file_extension": ".py",
   "mimetype": "text/x-python",
   "name": "python",
   "nbconvert_exporter": "python",
   "pygments_lexer": "ipython3",
   "version": "3.5.1"
  }
 },
 "nbformat": 4,
 "nbformat_minor": 0
}
